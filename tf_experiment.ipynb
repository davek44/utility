{
 "cells": [
  {
   "cell_type": "code",
   "execution_count": 21,
   "metadata": {
    "collapsed": true
   },
   "outputs": [],
   "source": [
    "import numpy as np\n",
    "import tensorflow as tf"
   ]
  },
  {
   "cell_type": "code",
   "execution_count": 22,
   "metadata": {},
   "outputs": [],
   "source": [
    "# declare placeholders\n",
    "\n",
    "preds_tf = tf.placeholder(tf.float32, preds.shape)\n",
    "targets_tf = tf.placeholder(tf.int32, targets.shape)"
   ]
  },
  {
   "cell_type": "code",
   "execution_count": 23,
   "metadata": {
    "collapsed": true
   },
   "outputs": [],
   "source": [
    "# construct graph\n",
    "\n",
    "loss_op = tf.nn.sparse_softmax_cross_entropy_with_logits(labels=targets_tf, logits=preds_tf)"
   ]
  },
  {
   "cell_type": "code",
   "execution_count": 29,
   "metadata": {},
   "outputs": [
    {
     "name": "stdout",
     "output_type": "stream",
     "text": [
      "[[[[-0.15847    -0.07289354 -0.4907812   2.80184119]\n",
      "   [ 0.70395841  0.55699133  2.42343123  0.48495053]]\n",
      "\n",
      "  [[ 0.00854943  0.60075098 -0.31981773  0.34464993]\n",
      "   [ 0.84885186  0.81269602 -1.38883846  1.30349374]]]\n",
      "\n",
      "\n",
      " [[[-0.2340621   0.50338463  0.98655519  1.12165306]\n",
      "   [ 0.76261724 -0.59107254  1.26504965  1.64404055]]\n",
      "\n",
      "  [[ 0.49196431  0.13576522 -0.60786669  0.77519007]\n",
      "   [-0.16628439 -0.00358472 -1.8149417   2.14787572]]]]\n",
      "[[[4 3]\n",
      "  [2 3]]\n",
      "\n",
      " [[3 3]\n",
      "  [4 3]]]\n"
     ]
    }
   ],
   "source": [
    "# generate feed values\n",
    "\n",
    "preds = np.random.randn(2,2,2,4)\n",
    "targets = np.digitize(np.random.randn(2,2,2), [-10, -1, 0, 1], right=True)\n",
    "\n",
    "print(preds)\n",
    "print(targets)"
   ]
  },
  {
   "cell_type": "code",
   "execution_count": 30,
   "metadata": {},
   "outputs": [],
   "source": [
    "# run graph\n",
    "\n",
    "with tf.Session() as sess:\n",
    "    loss = sess.run(loss_op, feed_dict={preds_tf:preds, targets_tf:(targets-1)})"
   ]
  },
  {
   "cell_type": "code",
   "execution_count": 31,
   "metadata": {},
   "outputs": [
    {
     "name": "stdout",
     "output_type": "stream",
     "text": [
      "(2, 2, 2)\n",
      "[[[ 0.13574532  0.39052498]\n",
      "  [ 1.00263894  3.53154135]]\n",
      "\n",
      " [[ 1.1172775   1.17004704]\n",
      "  [ 0.92891318  4.17321825]]]\n"
     ]
    }
   ],
   "source": [
    "# examine output\n",
    "\n",
    "print(loss.shape)\n",
    "print(loss)"
   ]
  },
  {
   "cell_type": "code",
   "execution_count": null,
   "metadata": {
    "collapsed": true
   },
   "outputs": [],
   "source": []
  }
 ],
 "metadata": {
  "kernelspec": {
   "display_name": "Python [default]",
   "language": "python",
   "name": "python3"
  },
  "language_info": {
   "codemirror_mode": {
    "name": "ipython",
    "version": 3
   },
   "file_extension": ".py",
   "mimetype": "text/x-python",
   "name": "python",
   "nbconvert_exporter": "python",
   "pygments_lexer": "ipython3",
   "version": "3.5.2"
  }
 },
 "nbformat": 4,
 "nbformat_minor": 2
}
